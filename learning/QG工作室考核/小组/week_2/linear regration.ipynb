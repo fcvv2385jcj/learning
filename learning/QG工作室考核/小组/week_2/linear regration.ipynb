{
 "cells": [
  {
   "cell_type": "code",
   "execution_count": 1,
   "id": "65eeba37",
   "metadata": {},
   "outputs": [
    {
     "name": "stdout",
     "output_type": "stream",
     "text": [
      "{'data': array([[6.3200e-03, 1.8000e+01, 2.3100e+00, ..., 1.5300e+01, 3.9690e+02,\n",
      "        4.9800e+00],\n",
      "       [2.7310e-02, 0.0000e+00, 7.0700e+00, ..., 1.7800e+01, 3.9690e+02,\n",
      "        9.1400e+00],\n",
      "       [2.7290e-02, 0.0000e+00, 7.0700e+00, ..., 1.7800e+01, 3.9283e+02,\n",
      "        4.0300e+00],\n",
      "       ...,\n",
      "       [6.0760e-02, 0.0000e+00, 1.1930e+01, ..., 2.1000e+01, 3.9690e+02,\n",
      "        5.6400e+00],\n",
      "       [1.0959e-01, 0.0000e+00, 1.1930e+01, ..., 2.1000e+01, 3.9345e+02,\n",
      "        6.4800e+00],\n",
      "       [4.7410e-02, 0.0000e+00, 1.1930e+01, ..., 2.1000e+01, 3.9690e+02,\n",
      "        7.8800e+00]]), 'target': array([24. , 21.6, 34.7, 33.4, 36.2, 28.7, 22.9, 27.1, 16.5, 18.9, 15. ,\n",
      "       18.9, 21.7, 20.4, 18.2, 19.9, 23.1, 17.5, 20.2, 18.2, 13.6, 19.6,\n",
      "       15.2, 14.5, 15.6, 13.9, 16.6, 14.8, 18.4, 21. , 12.7, 14.5, 13.2,\n",
      "       13.1, 13.5, 18.9, 20. , 21. , 24.7, 30.8, 34.9, 26.6, 25.3, 24.7,\n",
      "       21.2, 19.3, 20. , 16.6, 14.4, 19.4, 19.7, 20.5, 25. , 23.4, 18.9,\n",
      "       35.4, 24.7, 31.6, 23.3, 19.6, 18.7, 16. , 22.2, 25. , 33. , 23.5,\n",
      "       19.4, 22. , 17.4, 20.9, 24.2, 21.7, 22.8, 23.4, 24.1, 21.4, 20. ,\n",
      "       20.8, 21.2, 20.3, 28. , 23.9, 24.8, 22.9, 23.9, 26.6, 22.5, 22.2,\n",
      "       23.6, 28.7, 22.6, 22. , 22.9, 25. , 20.6, 28.4, 21.4, 38.7, 43.8,\n",
      "       33.2, 27.5, 26.5, 18.6, 19.3, 20.1, 19.5, 19.5, 20.4, 19.8, 19.4,\n",
      "       21.7, 22.8, 18.8, 18.7, 18.5, 18.3, 21.2, 19.2, 20.4, 19.3, 22. ,\n",
      "       20.3, 20.5, 17.3, 18.8, 21.4, 15.7, 16.2, 18. , 14.3, 19.2, 19.6,\n",
      "       23. , 18.4, 15.6, 18.1, 17.4, 17.1, 13.3, 17.8, 14. , 14.4, 13.4,\n",
      "       15.6, 11.8, 13.8, 15.6, 14.6, 17.8, 15.4, 21.5, 19.6, 15.3, 19.4,\n",
      "       17. , 15.6, 13.1, 41.3, 24.3, 23.3, 27. , 50. , 50. , 50. , 22.7,\n",
      "       25. , 50. , 23.8, 23.8, 22.3, 17.4, 19.1, 23.1, 23.6, 22.6, 29.4,\n",
      "       23.2, 24.6, 29.9, 37.2, 39.8, 36.2, 37.9, 32.5, 26.4, 29.6, 50. ,\n",
      "       32. , 29.8, 34.9, 37. , 30.5, 36.4, 31.1, 29.1, 50. , 33.3, 30.3,\n",
      "       34.6, 34.9, 32.9, 24.1, 42.3, 48.5, 50. , 22.6, 24.4, 22.5, 24.4,\n",
      "       20. , 21.7, 19.3, 22.4, 28.1, 23.7, 25. , 23.3, 28.7, 21.5, 23. ,\n",
      "       26.7, 21.7, 27.5, 30.1, 44.8, 50. , 37.6, 31.6, 46.7, 31.5, 24.3,\n",
      "       31.7, 41.7, 48.3, 29. , 24. , 25.1, 31.5, 23.7, 23.3, 22. , 20.1,\n",
      "       22.2, 23.7, 17.6, 18.5, 24.3, 20.5, 24.5, 26.2, 24.4, 24.8, 29.6,\n",
      "       42.8, 21.9, 20.9, 44. , 50. , 36. , 30.1, 33.8, 43.1, 48.8, 31. ,\n",
      "       36.5, 22.8, 30.7, 50. , 43.5, 20.7, 21.1, 25.2, 24.4, 35.2, 32.4,\n",
      "       32. , 33.2, 33.1, 29.1, 35.1, 45.4, 35.4, 46. , 50. , 32.2, 22. ,\n",
      "       20.1, 23.2, 22.3, 24.8, 28.5, 37.3, 27.9, 23.9, 21.7, 28.6, 27.1,\n",
      "       20.3, 22.5, 29. , 24.8, 22. , 26.4, 33.1, 36.1, 28.4, 33.4, 28.2,\n",
      "       22.8, 20.3, 16.1, 22.1, 19.4, 21.6, 23.8, 16.2, 17.8, 19.8, 23.1,\n",
      "       21. , 23.8, 23.1, 20.4, 18.5, 25. , 24.6, 23. , 22.2, 19.3, 22.6,\n",
      "       19.8, 17.1, 19.4, 22.2, 20.7, 21.1, 19.5, 18.5, 20.6, 19. , 18.7,\n",
      "       32.7, 16.5, 23.9, 31.2, 17.5, 17.2, 23.1, 24.5, 26.6, 22.9, 24.1,\n",
      "       18.6, 30.1, 18.2, 20.6, 17.8, 21.7, 22.7, 22.6, 25. , 19.9, 20.8,\n",
      "       16.8, 21.9, 27.5, 21.9, 23.1, 50. , 50. , 50. , 50. , 50. , 13.8,\n",
      "       13.8, 15. , 13.9, 13.3, 13.1, 10.2, 10.4, 10.9, 11.3, 12.3,  8.8,\n",
      "        7.2, 10.5,  7.4, 10.2, 11.5, 15.1, 23.2,  9.7, 13.8, 12.7, 13.1,\n",
      "       12.5,  8.5,  5. ,  6.3,  5.6,  7.2, 12.1,  8.3,  8.5,  5. , 11.9,\n",
      "       27.9, 17.2, 27.5, 15. , 17.2, 17.9, 16.3,  7. ,  7.2,  7.5, 10.4,\n",
      "        8.8,  8.4, 16.7, 14.2, 20.8, 13.4, 11.7,  8.3, 10.2, 10.9, 11. ,\n",
      "        9.5, 14.5, 14.1, 16.1, 14.3, 11.7, 13.4,  9.6,  8.7,  8.4, 12.8,\n",
      "       10.5, 17.1, 18.4, 15.4, 10.8, 11.8, 14.9, 12.6, 14.1, 13. , 13.4,\n",
      "       15.2, 16.1, 17.8, 14.9, 14.1, 12.7, 13.5, 14.9, 20. , 16.4, 17.7,\n",
      "       19.5, 20.2, 21.4, 19.9, 19. , 19.1, 19.1, 20.1, 19.9, 19.6, 23.2,\n",
      "       29.8, 13.8, 13.3, 16.7, 12. , 14.6, 21.4, 23. , 23.7, 25. , 21.8,\n",
      "       20.6, 21.2, 19.1, 20.6, 15.2,  7. ,  8.1, 13.6, 20.1, 21.8, 24.5,\n",
      "       23.1, 19.7, 18.3, 21.2, 17.5, 16.8, 22.4, 20.6, 23.9, 22. , 11.9]), 'feature_names': array(['CRIM', 'ZN', 'INDUS', 'CHAS', 'NOX', 'RM', 'AGE', 'DIS', 'RAD',\n",
      "       'TAX', 'PTRATIO', 'B', 'LSTAT'], dtype='<U7'), 'DESCR': \".. _boston_dataset:\\n\\nBoston house prices dataset\\n---------------------------\\n\\n**Data Set Characteristics:**  \\n\\n    :Number of Instances: 506 \\n\\n    :Number of Attributes: 13 numeric/categorical predictive. Median Value (attribute 14) is usually the target.\\n\\n    :Attribute Information (in order):\\n        - CRIM     per capita crime rate by town\\n        - ZN       proportion of residential land zoned for lots over 25,000 sq.ft.\\n        - INDUS    proportion of non-retail business acres per town\\n        - CHAS     Charles River dummy variable (= 1 if tract bounds river; 0 otherwise)\\n        - NOX      nitric oxides concentration (parts per 10 million)\\n        - RM       average number of rooms per dwelling\\n        - AGE      proportion of owner-occupied units built prior to 1940\\n        - DIS      weighted distances to five Boston employment centres\\n        - RAD      index of accessibility to radial highways\\n        - TAX      full-value property-tax rate per $10,000\\n        - PTRATIO  pupil-teacher ratio by town\\n        - B        1000(Bk - 0.63)^2 where Bk is the proportion of blacks by town\\n        - LSTAT    % lower status of the population\\n        - MEDV     Median value of owner-occupied homes in $1000's\\n\\n    :Missing Attribute Values: None\\n\\n    :Creator: Harrison, D. and Rubinfeld, D.L.\\n\\nThis is a copy of UCI ML housing dataset.\\nhttps://archive.ics.uci.edu/ml/machine-learning-databases/housing/\\n\\n\\nThis dataset was taken from the StatLib library which is maintained at Carnegie Mellon University.\\n\\nThe Boston house-price data of Harrison, D. and Rubinfeld, D.L. 'Hedonic\\nprices and the demand for clean air', J. Environ. Economics & Management,\\nvol.5, 81-102, 1978.   Used in Belsley, Kuh & Welsch, 'Regression diagnostics\\n...', Wiley, 1980.   N.B. Various transformations are used in the table on\\npages 244-261 of the latter.\\n\\nThe Boston house-price data has been used in many machine learning papers that address regression\\nproblems.   \\n     \\n.. topic:: References\\n\\n   - Belsley, Kuh & Welsch, 'Regression diagnostics: Identifying Influential Data and Sources of Collinearity', Wiley, 1980. 244-261.\\n   - Quinlan,R. (1993). Combining Instance-Based and Model-Based Learning. In Proceedings on the Tenth International Conference of Machine Learning, 236-243, University of Massachusetts, Amherst. Morgan Kaufmann.\\n\", 'filename': 'D:\\\\ana\\\\lib\\\\site-packages\\\\sklearn\\\\datasets\\\\data\\\\boston_house_prices.csv'}\n"
     ]
    }
   ],
   "source": [
    "import numpy as np\n",
    "import pandas as pd\n",
    "import matplotlib.pyplot as plt\n",
    "import seaborn as sns\n",
    "from function import Network\n",
    "\n",
    "from sklearn import datasets\n",
    "# 加载波士顿房价的数据集\n",
    "boston = datasets.load_boston()\n",
    "print(boston)"
   ]
  },
  {
   "cell_type": "code",
   "execution_count": 2,
   "id": "fe063644",
   "metadata": {},
   "outputs": [
    {
     "name": "stdout",
     "output_type": "stream",
     "text": [
      "        CRIM    ZN  INDUS  CHAS    NOX     RM   AGE     DIS  RAD    TAX  \\\n",
      "0    0.00632  18.0   2.31   0.0  0.538  6.575  65.2  4.0900  1.0  296.0   \n",
      "1    0.02731   0.0   7.07   0.0  0.469  6.421  78.9  4.9671  2.0  242.0   \n",
      "2    0.02729   0.0   7.07   0.0  0.469  7.185  61.1  4.9671  2.0  242.0   \n",
      "3    0.03237   0.0   2.18   0.0  0.458  6.998  45.8  6.0622  3.0  222.0   \n",
      "4    0.06905   0.0   2.18   0.0  0.458  7.147  54.2  6.0622  3.0  222.0   \n",
      "..       ...   ...    ...   ...    ...    ...   ...     ...  ...    ...   \n",
      "501  0.06263   0.0  11.93   0.0  0.573  6.593  69.1  2.4786  1.0  273.0   \n",
      "502  0.04527   0.0  11.93   0.0  0.573  6.120  76.7  2.2875  1.0  273.0   \n",
      "503  0.06076   0.0  11.93   0.0  0.573  6.976  91.0  2.1675  1.0  273.0   \n",
      "504  0.10959   0.0  11.93   0.0  0.573  6.794  89.3  2.3889  1.0  273.0   \n",
      "505  0.04741   0.0  11.93   0.0  0.573  6.030  80.8  2.5050  1.0  273.0   \n",
      "\n",
      "     PTRATIO       B  LSTAT  PRICE  \n",
      "0       15.3  396.90   4.98   24.0  \n",
      "1       17.8  396.90   9.14   21.6  \n",
      "2       17.8  392.83   4.03   34.7  \n",
      "3       18.7  394.63   2.94   33.4  \n",
      "4       18.7  396.90   5.33   36.2  \n",
      "..       ...     ...    ...    ...  \n",
      "501     21.0  391.99   9.67   22.4  \n",
      "502     21.0  396.90   9.08   20.6  \n",
      "503     21.0  396.90   5.64   23.9  \n",
      "504     21.0  393.45   6.48   22.0  \n",
      "505     21.0  396.90   7.88   11.9  \n",
      "\n",
      "[506 rows x 14 columns]\n"
     ]
    },
    {
     "data": {
      "image/png": "[encoded data removed]",
      "text/plain": [
       "<Figure size 432x288 with 1 Axes>"
      ]
     },
     "metadata": {
      "needs_background": "light"
     },
     "output_type": "display_data"
    }
   ],
   "source": [
    "# 将数据转为dataframe的格式\n",
    "boston_df = pd.DataFrame(boston.data, columns=boston.feature_names)\n",
    "boston_df['PRICE'] = boston.target\n",
    "print(boston_df)\n",
    "\n",
    "L1 = plt.scatter(range(boston.data.shape[0]),boston_df['PRICE'], c='g', s=30, edgecolor='white')\n",
    "# plt.title('y_test_PRICE')\n",
    "plt.xlabel('sample')\n",
    "plt.ylabel('PRICE')\n",
    "legend = plt.legend([L1], ['PRICE'])\n",
    "plt.show()"
   ]
  },
  {
   "cell_type": "code",
   "execution_count": 3,
   "id": "f004e14d",
   "metadata": {},
   "outputs": [
    {
     "data": {
      "text/html": [
       "<div>\n",
       "<style scoped>\n",
       "    .dataframe tbody tr th:only-of-type {\n",
       "        vertical-align: middle;\n",
       "    }\n",
       "\n",
       "    .dataframe tbody tr th {\n",
       "        vertical-align: top;\n",
       "    }\n",
       "\n",
       "    .dataframe thead th {\n",
       "        text-align: right;\n",
       "    }\n",
       "</style>\n",
       "<table border=\"1\" class=\"dataframe\">\n",
       "  <thead>\n",
       "    <tr style=\"text-align: right;\">\n",
       "      <th></th>\n",
       "      <th>CRIM</th>\n",
       "      <th>ZN</th>\n",
       "      <th>INDUS</th>\n",
       "      <th>CHAS</th>\n",
       "      <th>NOX</th>\n",
       "      <th>RM</th>\n",
       "      <th>AGE</th>\n",
       "      <th>DIS</th>\n",
       "      <th>RAD</th>\n",
       "      <th>TAX</th>\n",
       "      <th>PTRATIO</th>\n",
       "      <th>B</th>\n",
       "      <th>LSTAT</th>\n",
       "      <th>PRICE</th>\n",
       "    </tr>\n",
       "  </thead>\n",
       "  <tbody>\n",
       "    <tr>\n",
       "      <th>count</th>\n",
       "      <td>506.000000</td>\n",
       "      <td>506.000000</td>\n",
       "      <td>506.000000</td>\n",
       "      <td>506.000000</td>\n",
       "      <td>506.000000</td>\n",
       "      <td>506.000000</td>\n",
       "      <td>506.000000</td>\n",
       "      <td>506.000000</td>\n",
       "      <td>506.000000</td>\n",
       "      <td>506.000000</td>\n",
       "      <td>506.000000</td>\n",
       "      <td>506.000000</td>\n",
       "      <td>506.000000</td>\n",
       "      <td>506.000000</td>\n",
       "    </tr>\n",
       "    <tr>\n",
       "      <th>mean</th>\n",
       "      <td>3.613524</td>\n",
       "      <td>11.363636</td>\n",
       "      <td>11.136779</td>\n",
       "      <td>0.069170</td>\n",
       "      <td>0.554695</td>\n",
       "      <td>6.284634</td>\n",
       "      <td>68.574901</td>\n",
       "      <td>3.795043</td>\n",
       "      <td>9.549407</td>\n",
       "      <td>408.237154</td>\n",
       "      <td>18.455534</td>\n",
       "      <td>356.674032</td>\n",
       "      <td>12.653063</td>\n",
       "      <td>22.532806</td>\n",
       "    </tr>\n",
       "    <tr>\n",
       "      <th>std</th>\n",
       "      <td>8.601545</td>\n",
       "      <td>23.322453</td>\n",
       "      <td>6.860353</td>\n",
       "      <td>0.253994</td>\n",
       "      <td>0.115878</td>\n",
       "      <td>0.702617</td>\n",
       "      <td>28.148861</td>\n",
       "      <td>2.105710</td>\n",
       "      <td>8.707259</td>\n",
       "      <td>168.537116</td>\n",
       "      <td>2.164946</td>\n",
       "      <td>91.294864</td>\n",
       "      <td>7.141062</td>\n",
       "      <td>9.197104</td>\n",
       "    </tr>\n",
       "    <tr>\n",
       "      <th>min</th>\n",
       "      <td>0.006320</td>\n",
       "      <td>0.000000</td>\n",
       "      <td>0.460000</td>\n",
       "      <td>0.000000</td>\n",
       "      <td>0.385000</td>\n",
       "      <td>3.561000</td>\n",
       "      <td>2.900000</td>\n",
       "      <td>1.129600</td>\n",
       "      <td>1.000000</td>\n",
       "      <td>187.000000</td>\n",
       "      <td>12.600000</td>\n",
       "      <td>0.320000</td>\n",
       "      <td>1.730000</td>\n",
       "      <td>5.000000</td>\n",
       "    </tr>\n",
       "    <tr>\n",
       "      <th>25%</th>\n",
       "      <td>0.082045</td>\n",
       "      <td>0.000000</td>\n",
       "      <td>5.190000</td>\n",
       "      <td>0.000000</td>\n",
       "      <td>0.449000</td>\n",
       "      <td>5.885500</td>\n",
       "      <td>45.025000</td>\n",
       "      <td>2.100175</td>\n",
       "      <td>4.000000</td>\n",
       "      <td>279.000000</td>\n",
       "      <td>17.400000</td>\n",
       "      <td>375.377500</td>\n",
       "      <td>6.950000</td>\n",
       "      <td>17.025000</td>\n",
       "    </tr>\n",
       "    <tr>\n",
       "      <th>50%</th>\n",
       "      <td>0.256510</td>\n",
       "      <td>0.000000</td>\n",
       "      <td>9.690000</td>\n",
       "      <td>0.000000</td>\n",
       "      <td>0.538000</td>\n",
       "      <td>6.208500</td>\n",
       "      <td>77.500000</td>\n",
       "      <td>3.207450</td>\n",
       "      <td>5.000000</td>\n",
       "      <td>330.000000</td>\n",
       "      <td>19.050000</td>\n",
       "      <td>391.440000</td>\n",
       "      <td>11.360000</td>\n",
       "      <td>21.200000</td>\n",
       "    </tr>\n",
       "    <tr>\n",
       "      <th>75%</th>\n",
       "      <td>3.677083</td>\n",
       "      <td>12.500000</td>\n",
       "      <td>18.100000</td>\n",
       "      <td>0.000000</td>\n",
       "      <td>0.624000</td>\n",
       "      <td>6.623500</td>\n",
       "      <td>94.075000</td>\n",
       "      <td>5.188425</td>\n",
       "      <td>24.000000</td>\n",
       "      <td>666.000000</td>\n",
       "      <td>20.200000</td>\n",
       "      <td>396.225000</td>\n",
       "      <td>16.955000</td>\n",
       "      <td>25.000000</td>\n",
       "    </tr>\n",
       "    <tr>\n",
       "      <th>max</th>\n",
       "      <td>88.976200</td>\n",
       "      <td>100.000000</td>\n",
       "      <td>27.740000</td>\n",
       "      <td>1.000000</td>\n",
       "      <td>0.871000</td>\n",
       "      <td>8.780000</td>\n",
       "      <td>100.000000</td>\n",
       "      <td>12.126500</td>\n",
       "      <td>24.000000</td>\n",
       "      <td>711.000000</td>\n",
       "      <td>22.000000</td>\n",
       "      <td>396.900000</td>\n",
       "      <td>37.970000</td>\n",
       "      <td>50.000000</td>\n",
       "    </tr>\n",
       "  </tbody>\n",
       "</table>\n",
       "</div>"
      ],
      "text/plain": [
       "             CRIM          ZN       INDUS        CHAS         NOX          RM  \\\n",
       "count  506.000000  506.000000  506.000000  506.000000  506.000000  506.000000   \n",
       "mean     3.613524   11.363636   11.136779    0.069170    0.554695    6.284634   \n",
       "std      8.601545   23.322453    6.860353    0.253994    0.115878    0.702617   \n",
       "min      0.006320    0.000000    0.460000    0.000000    0.385000    3.561000   \n",
       "25%      0.082045    0.000000    5.190000    0.000000    0.449000    5.885500   \n",
       "50%      0.256510    0.000000    9.690000    0.000000    0.538000    6.208500   \n",
       "75%      3.677083   12.500000   18.100000    0.000000    0.624000    6.623500   \n",
       "max     88.976200  100.000000   27.740000    1.000000    0.871000    8.780000   \n",
       "\n",
       "              AGE         DIS         RAD         TAX     PTRATIO           B  \\\n",
       "count  506.000000  506.000000  506.000000  506.000000  506.000000  506.000000   \n",
       "mean    68.574901    3.795043    9.549407  408.237154   18.455534  356.674032   \n",
       "std     28.148861    2.105710    8.707259  168.537116    2.164946   91.294864   \n",
       "min      2.900000    1.129600    1.000000  187.000000   12.600000    0.320000   \n",
       "25%     45.025000    2.100175    4.000000  279.000000   17.400000  375.377500   \n",
       "50%     77.500000    3.207450    5.000000  330.000000   19.050000  391.440000   \n",
       "75%     94.075000    5.188425   24.000000  666.000000   20.200000  396.225000   \n",
       "max    100.000000   12.126500   24.000000  711.000000   22.000000  396.900000   \n",
       "\n",
       "            LSTAT       PRICE  \n",
       "count  506.000000  506.000000  \n",
       "mean    12.653063   22.532806  \n",
       "std      7.141062    9.197104  \n",
       "min      1.730000    5.000000  \n",
       "25%      6.950000   17.025000  \n",
       "50%     11.360000   21.200000  \n",
       "75%     16.955000   25.000000  \n",
       "max     37.970000   50.000000  "
      ]
     },
     "execution_count": 3,
     "metadata": {},
     "output_type": "execute_result"
    }
   ],
   "source": [
    "# 查看数据的描述信息，在描述信息里可以看到每个特征的均值，最大值，最小值等信息。\n",
    "boston_df.describe()"
   ]
  },
  {
   "cell_type": "code",
   "execution_count": 4,
   "id": "b5078079",
   "metadata": {},
   "outputs": [
    {
     "name": "stdout",
     "output_type": "stream",
     "text": [
      "        CRIM    ZN  INDUS  CHAS    NOX     RM   AGE     DIS  RAD    TAX  \\\n",
      "0    0.00632  18.0   2.31   0.0  0.538  6.575  65.2  4.0900  1.0  296.0   \n",
      "1    0.02731   0.0   7.07   0.0  0.469  6.421  78.9  4.9671  2.0  242.0   \n",
      "2    0.02729   0.0   7.07   0.0  0.469  7.185  61.1  4.9671  2.0  242.0   \n",
      "3    0.03237   0.0   2.18   0.0  0.458  6.998  45.8  6.0622  3.0  222.0   \n",
      "4    0.06905   0.0   2.18   0.0  0.458  7.147  54.2  6.0622  3.0  222.0   \n",
      "..       ...   ...    ...   ...    ...    ...   ...     ...  ...    ...   \n",
      "501  0.06263   0.0  11.93   0.0  0.573  6.593  69.1  2.4786  1.0  273.0   \n",
      "502  0.04527   0.0  11.93   0.0  0.573  6.120  76.7  2.2875  1.0  273.0   \n",
      "503  0.06076   0.0  11.93   0.0  0.573  6.976  91.0  2.1675  1.0  273.0   \n",
      "504  0.10959   0.0  11.93   0.0  0.573  6.794  89.3  2.3889  1.0  273.0   \n",
      "505  0.04741   0.0  11.93   0.0  0.573  6.030  80.8  2.5050  1.0  273.0   \n",
      "\n",
      "     PTRATIO       B  LSTAT  PRICE  \n",
      "0       15.3  396.90   4.98   24.0  \n",
      "1       17.8  396.90   9.14   21.6  \n",
      "2       17.8  392.83   4.03   34.7  \n",
      "3       18.7  394.63   2.94   33.4  \n",
      "4       18.7  396.90   5.33   36.2  \n",
      "..       ...     ...    ...    ...  \n",
      "501     21.0  391.99   9.67   22.4  \n",
      "502     21.0  396.90   9.08   20.6  \n",
      "503     21.0  396.90   5.64   23.9  \n",
      "504     21.0  393.45   6.48   22.0  \n",
      "505     21.0  396.90   7.88   11.9  \n",
      "\n",
      "[489 rows x 14 columns]\n"
     ]
    }
   ],
   "source": [
    "# 查看数据是否存在空值，从结果来看数据不存在空值。\n",
    "boston_df.isnull().sum()\n",
    "# 查看数据大小\n",
    "boston_df.shape\n",
    "# 显示数据前5行\n",
    "boston_df.head()\n",
    "# 清洗'PRICE' = 50.0 的数据\n",
    "boston_df = boston_df.loc[boston_df['PRICE'] != 50.0]\n",
    "boston_df = boston_df.loc[boston_df['ZN'] != 100]\n",
    "\n",
    "print(boston_df)"
   ]
  },
  {
   "cell_type": "code",
   "execution_count": 5,
   "id": "482ef2fd",
   "metadata": {},
   "outputs": [
    {
     "data": {
      "text/html": [
       "<div>\n",
       "<style scoped>\n",
       "    .dataframe tbody tr th:only-of-type {\n",
       "        vertical-align: middle;\n",
       "    }\n",
       "\n",
       "    .dataframe tbody tr th {\n",
       "        vertical-align: top;\n",
       "    }\n",
       "\n",
       "    .dataframe thead th {\n",
       "        text-align: right;\n",
       "    }\n",
       "</style>\n",
       "<table border=\"1\" class=\"dataframe\">\n",
       "  <thead>\n",
       "    <tr style=\"text-align: right;\">\n",
       "      <th></th>\n",
       "      <th>CRIM</th>\n",
       "      <th>ZN</th>\n",
       "      <th>INDUS</th>\n",
       "      <th>CHAS</th>\n",
       "      <th>NOX</th>\n",
       "      <th>RM</th>\n",
       "      <th>AGE</th>\n",
       "      <th>DIS</th>\n",
       "      <th>RAD</th>\n",
       "      <th>TAX</th>\n",
       "      <th>PTRATIO</th>\n",
       "      <th>B</th>\n",
       "      <th>LSTAT</th>\n",
       "      <th>PRICE</th>\n",
       "    </tr>\n",
       "  </thead>\n",
       "  <tbody>\n",
       "    <tr>\n",
       "      <th>CRIM</th>\n",
       "      <td>1.000000</td>\n",
       "      <td>-0.198902</td>\n",
       "      <td>0.407763</td>\n",
       "      <td>-0.064439</td>\n",
       "      <td>0.420153</td>\n",
       "      <td>-0.218772</td>\n",
       "      <td>0.353325</td>\n",
       "      <td>-0.382262</td>\n",
       "      <td>0.627276</td>\n",
       "      <td>0.583533</td>\n",
       "      <td>0.286520</td>\n",
       "      <td>-0.384250</td>\n",
       "      <td>0.461516</td>\n",
       "      <td>-0.449855</td>\n",
       "    </tr>\n",
       "    <tr>\n",
       "      <th>ZN</th>\n",
       "      <td>-0.198902</td>\n",
       "      <td>1.000000</td>\n",
       "      <td>-0.524974</td>\n",
       "      <td>-0.052741</td>\n",
       "      <td>-0.511113</td>\n",
       "      <td>0.308604</td>\n",
       "      <td>-0.564702</td>\n",
       "      <td>0.669797</td>\n",
       "      <td>-0.308491</td>\n",
       "      <td>-0.300634</td>\n",
       "      <td>-0.375766</td>\n",
       "      <td>0.175704</td>\n",
       "      <td>-0.419221</td>\n",
       "      <td>0.401433</td>\n",
       "    </tr>\n",
       "    <tr>\n",
       "      <th>INDUS</th>\n",
       "      <td>0.407763</td>\n",
       "      <td>-0.524974</td>\n",
       "      <td>1.000000</td>\n",
       "      <td>0.035155</td>\n",
       "      <td>0.764338</td>\n",
       "      <td>-0.411033</td>\n",
       "      <td>0.637050</td>\n",
       "      <td>-0.708812</td>\n",
       "      <td>0.596020</td>\n",
       "      <td>0.717133</td>\n",
       "      <td>0.384737</td>\n",
       "      <td>-0.363044</td>\n",
       "      <td>0.635185</td>\n",
       "      <td>-0.598526</td>\n",
       "    </tr>\n",
       "    <tr>\n",
       "      <th>CHAS</th>\n",
       "      <td>-0.064439</td>\n",
       "      <td>-0.052741</td>\n",
       "      <td>0.035155</td>\n",
       "      <td>1.000000</td>\n",
       "      <td>0.085125</td>\n",
       "      <td>0.045466</td>\n",
       "      <td>0.070763</td>\n",
       "      <td>-0.076975</td>\n",
       "      <td>-0.033064</td>\n",
       "      <td>-0.068269</td>\n",
       "      <td>-0.117987</td>\n",
       "      <td>0.041922</td>\n",
       "      <td>-0.007149</td>\n",
       "      <td>0.075583</td>\n",
       "    </tr>\n",
       "    <tr>\n",
       "      <th>NOX</th>\n",
       "      <td>0.420153</td>\n",
       "      <td>-0.511113</td>\n",
       "      <td>0.764338</td>\n",
       "      <td>0.085125</td>\n",
       "      <td>1.000000</td>\n",
       "      <td>-0.321158</td>\n",
       "      <td>0.727038</td>\n",
       "      <td>-0.767518</td>\n",
       "      <td>0.611969</td>\n",
       "      <td>0.666693</td>\n",
       "      <td>0.185087</td>\n",
       "      <td>-0.382735</td>\n",
       "      <td>0.611205</td>\n",
       "      <td>-0.522931</td>\n",
       "    </tr>\n",
       "    <tr>\n",
       "      <th>RM</th>\n",
       "      <td>-0.218772</td>\n",
       "      <td>0.308604</td>\n",
       "      <td>-0.411033</td>\n",
       "      <td>0.045466</td>\n",
       "      <td>-0.321158</td>\n",
       "      <td>1.000000</td>\n",
       "      <td>-0.267173</td>\n",
       "      <td>0.243301</td>\n",
       "      <td>-0.195045</td>\n",
       "      <td>-0.280791</td>\n",
       "      <td>-0.291411</td>\n",
       "      <td>0.118601</td>\n",
       "      <td>-0.609581</td>\n",
       "      <td>0.686031</td>\n",
       "    </tr>\n",
       "    <tr>\n",
       "      <th>AGE</th>\n",
       "      <td>0.353325</td>\n",
       "      <td>-0.564702</td>\n",
       "      <td>0.637050</td>\n",
       "      <td>0.070763</td>\n",
       "      <td>0.727038</td>\n",
       "      <td>-0.267173</td>\n",
       "      <td>1.000000</td>\n",
       "      <td>-0.742935</td>\n",
       "      <td>0.451464</td>\n",
       "      <td>0.498770</td>\n",
       "      <td>0.266166</td>\n",
       "      <td>-0.278517</td>\n",
       "      <td>0.637001</td>\n",
       "      <td>-0.491653</td>\n",
       "    </tr>\n",
       "    <tr>\n",
       "      <th>DIS</th>\n",
       "      <td>-0.382262</td>\n",
       "      <td>0.669797</td>\n",
       "      <td>-0.708812</td>\n",
       "      <td>-0.076975</td>\n",
       "      <td>-0.767518</td>\n",
       "      <td>0.243301</td>\n",
       "      <td>-0.742935</td>\n",
       "      <td>1.000000</td>\n",
       "      <td>-0.492034</td>\n",
       "      <td>-0.530994</td>\n",
       "      <td>-0.241476</td>\n",
       "      <td>0.299122</td>\n",
       "      <td>-0.534329</td>\n",
       "      <td>0.365588</td>\n",
       "    </tr>\n",
       "    <tr>\n",
       "      <th>RAD</th>\n",
       "      <td>0.627276</td>\n",
       "      <td>-0.308491</td>\n",
       "      <td>0.596020</td>\n",
       "      <td>-0.033064</td>\n",
       "      <td>0.611969</td>\n",
       "      <td>-0.195045</td>\n",
       "      <td>0.451464</td>\n",
       "      <td>-0.492034</td>\n",
       "      <td>1.000000</td>\n",
       "      <td>0.909050</td>\n",
       "      <td>0.455663</td>\n",
       "      <td>-0.451307</td>\n",
       "      <td>0.509823</td>\n",
       "      <td>-0.475862</td>\n",
       "    </tr>\n",
       "    <tr>\n",
       "      <th>TAX</th>\n",
       "      <td>0.583533</td>\n",
       "      <td>-0.300634</td>\n",
       "      <td>0.717133</td>\n",
       "      <td>-0.068269</td>\n",
       "      <td>0.666693</td>\n",
       "      <td>-0.280791</td>\n",
       "      <td>0.498770</td>\n",
       "      <td>-0.530994</td>\n",
       "      <td>0.909050</td>\n",
       "      <td>1.000000</td>\n",
       "      <td>0.450840</td>\n",
       "      <td>-0.447919</td>\n",
       "      <td>0.565523</td>\n",
       "      <td>-0.571513</td>\n",
       "    </tr>\n",
       "    <tr>\n",
       "      <th>PTRATIO</th>\n",
       "      <td>0.286520</td>\n",
       "      <td>-0.375766</td>\n",
       "      <td>0.384737</td>\n",
       "      <td>-0.117987</td>\n",
       "      <td>0.185087</td>\n",
       "      <td>-0.291411</td>\n",
       "      <td>0.266166</td>\n",
       "      <td>-0.241476</td>\n",
       "      <td>0.455663</td>\n",
       "      <td>0.450840</td>\n",
       "      <td>1.000000</td>\n",
       "      <td>-0.172802</td>\n",
       "      <td>0.355357</td>\n",
       "      <td>-0.516674</td>\n",
       "    </tr>\n",
       "    <tr>\n",
       "      <th>B</th>\n",
       "      <td>-0.384250</td>\n",
       "      <td>0.175704</td>\n",
       "      <td>-0.363044</td>\n",
       "      <td>0.041922</td>\n",
       "      <td>-0.382735</td>\n",
       "      <td>0.118601</td>\n",
       "      <td>-0.278517</td>\n",
       "      <td>0.299122</td>\n",
       "      <td>-0.451307</td>\n",
       "      <td>-0.447919</td>\n",
       "      <td>-0.172802</td>\n",
       "      <td>1.000000</td>\n",
       "      <td>-0.363719</td>\n",
       "      <td>0.364549</td>\n",
       "    </tr>\n",
       "    <tr>\n",
       "      <th>LSTAT</th>\n",
       "      <td>0.461516</td>\n",
       "      <td>-0.419221</td>\n",
       "      <td>0.635185</td>\n",
       "      <td>-0.007149</td>\n",
       "      <td>0.611205</td>\n",
       "      <td>-0.609581</td>\n",
       "      <td>0.637001</td>\n",
       "      <td>-0.534329</td>\n",
       "      <td>0.509823</td>\n",
       "      <td>0.565523</td>\n",
       "      <td>0.355357</td>\n",
       "      <td>-0.363719</td>\n",
       "      <td>1.000000</td>\n",
       "      <td>-0.759045</td>\n",
       "    </tr>\n",
       "    <tr>\n",
       "      <th>PRICE</th>\n",
       "      <td>-0.449855</td>\n",
       "      <td>0.401433</td>\n",
       "      <td>-0.598526</td>\n",
       "      <td>0.075583</td>\n",
       "      <td>-0.522931</td>\n",
       "      <td>0.686031</td>\n",
       "      <td>-0.491653</td>\n",
       "      <td>0.365588</td>\n",
       "      <td>-0.475862</td>\n",
       "      <td>-0.571513</td>\n",
       "      <td>-0.516674</td>\n",
       "      <td>0.364549</td>\n",
       "      <td>-0.759045</td>\n",
       "      <td>1.000000</td>\n",
       "    </tr>\n",
       "  </tbody>\n",
       "</table>\n",
       "</div>"
      ],
      "text/plain": [
       "             CRIM        ZN     INDUS      CHAS       NOX        RM       AGE  \\\n",
       "CRIM     1.000000 -0.198902  0.407763 -0.064439  0.420153 -0.218772  0.353325   \n",
       "ZN      -0.198902  1.000000 -0.524974 -0.052741 -0.511113  0.308604 -0.564702   \n",
       "INDUS    0.407763 -0.524974  1.000000  0.035155  0.764338 -0.411033  0.637050   \n",
       "CHAS    -0.064439 -0.052741  0.035155  1.000000  0.085125  0.045466  0.070763   \n",
       "NOX      0.420153 -0.511113  0.764338  0.085125  1.000000 -0.321158  0.727038   \n",
       "RM      -0.218772  0.308604 -0.411033  0.045466 -0.321158  1.000000 -0.267173   \n",
       "AGE      0.353325 -0.564702  0.637050  0.070763  0.727038 -0.267173  1.000000   \n",
       "DIS     -0.382262  0.669797 -0.708812 -0.076975 -0.767518  0.243301 -0.742935   \n",
       "RAD      0.627276 -0.308491  0.596020 -0.033064  0.611969 -0.195045  0.451464   \n",
       "TAX      0.583533 -0.300634  0.717133 -0.068269  0.666693 -0.280791  0.498770   \n",
       "PTRATIO  0.286520 -0.375766  0.384737 -0.117987  0.185087 -0.291411  0.266166   \n",
       "B       -0.384250  0.175704 -0.363044  0.041922 -0.382735  0.118601 -0.278517   \n",
       "LSTAT    0.461516 -0.419221  0.635185 -0.007149  0.611205 -0.609581  0.637001   \n",
       "PRICE   -0.449855  0.401433 -0.598526  0.075583 -0.522931  0.686031 -0.491653   \n",
       "\n",
       "              DIS       RAD       TAX   PTRATIO         B     LSTAT     PRICE  \n",
       "CRIM    -0.382262  0.627276  0.583533  0.286520 -0.384250  0.461516 -0.449855  \n",
       "ZN       0.669797 -0.308491 -0.300634 -0.375766  0.175704 -0.419221  0.401433  \n",
       "INDUS   -0.708812  0.596020  0.717133  0.384737 -0.363044  0.635185 -0.598526  \n",
       "CHAS    -0.076975 -0.033064 -0.068269 -0.117987  0.041922 -0.007149  0.075583  \n",
       "NOX     -0.767518  0.611969  0.666693  0.185087 -0.382735  0.611205 -0.522931  \n",
       "RM       0.243301 -0.195045 -0.280791 -0.291411  0.118601 -0.609581  0.686031  \n",
       "AGE     -0.742935  0.451464  0.498770  0.266166 -0.278517  0.637001 -0.491653  \n",
       "DIS      1.000000 -0.492034 -0.530994 -0.241476  0.299122 -0.534329  0.365588  \n",
       "RAD     -0.492034  1.000000  0.909050  0.455663 -0.451307  0.509823 -0.475862  \n",
       "TAX     -0.530994  0.909050  1.000000  0.450840 -0.447919  0.565523 -0.571513  \n",
       "PTRATIO -0.241476  0.455663  0.450840  1.000000 -0.172802  0.355357 -0.516674  \n",
       "B        0.299122 -0.451307 -0.447919 -0.172802  1.000000 -0.363719  0.364549  \n",
       "LSTAT   -0.534329  0.509823  0.565523  0.355357 -0.363719  1.000000 -0.759045  \n",
       "PRICE    0.365588 -0.475862 -0.571513 -0.516674  0.364549 -0.759045  1.000000  "
      ]
     },
     "execution_count": 5,
     "metadata": {},
     "output_type": "execute_result"
    }
   ],
   "source": [
    "# 计算每一个特征间的相关系数\n",
    "boston_df.corr()\n"
   ]
  },
  {
   "cell_type": "code",
   "execution_count": 6,
   "id": "0fba73ad",
   "metadata": {},
   "outputs": [
    {
     "name": "stdout",
     "output_type": "stream",
     "text": [
      "CRIM      -0.449855\n",
      "ZN         0.401433\n",
      "INDUS     -0.598526\n",
      "CHAS       0.075583\n",
      "NOX       -0.522931\n",
      "RM         0.686031\n",
      "AGE       -0.491653\n",
      "DIS        0.365588\n",
      "RAD       -0.475862\n",
      "TAX       -0.571513\n",
      "PTRATIO   -0.516674\n",
      "B          0.364549\n",
      "LSTAT     -0.759045\n",
      "PRICE      1.000000\n",
      "Name: PRICE, dtype: float64\n"
     ]
    }
   ],
   "source": [
    "# 计算每一个特征和房价的相关系数\n",
    "corr = boston_df.corr()\n",
    "corr = corr['PRICE']\n",
    "print(corr)"
   ]
  },
  {
   "cell_type": "code",
   "execution_count": 7,
   "id": "4a4b5211",
   "metadata": {},
   "outputs": [
    {
     "data": {
      "text/plain": [
       "<AxesSubplot:>"
      ]
     },
     "execution_count": 7,
     "metadata": {},
     "output_type": "execute_result"
    },
    {
     "data": {
      "image/png": "[encoded data removed]",
      "text/plain": [
       "<Figure size 432x288 with 1 Axes>"
      ]
     },
     "metadata": {
      "needs_background": "light"
     },
     "output_type": "display_data"
    }
   ],
   "source": [
    "# 图像化相关系数\n",
    "corr[abs(corr) > 0.5].sort_values().plot.bar()"
   ]
  },
  {
   "cell_type": "code",
   "execution_count": 8,
   "id": "da832e6b",
   "metadata": {},
   "outputs": [
    {
     "data": {
      "image/png": "[encoded data removed]",
      "text/plain": [
       "<Figure size 432x288 with 1 Axes>"
      ]
     },
     "metadata": {
      "needs_background": "light"
     },
     "output_type": "display_data"
    }
   ],
   "source": [
    "# LSTAT 和房价的散点图\n",
    "plt.scatter(boston_df['LSTAT'], boston_df['PRICE'], s=30, edgecolor='white')\n",
    "plt.title('LSTAT')\n",
    "plt.show()\n"
   ]
  },
  {
   "cell_type": "code",
   "execution_count": 9,
   "id": "46653d97",
   "metadata": {},
   "outputs": [
    {
     "data": {
      "image/png": "[encoded data removed]",
      "text/plain": [
       "<Figure size 432x288 with 1 Axes>"
      ]
     },
     "metadata": {
      "needs_background": "light"
     },
     "output_type": "display_data"
    }
   ],
   "source": [
    "#PTRATIO 和房价的散点图\n",
    "plt.scatter(boston_df['PTRATIO'], boston_df['PRICE'],s=30, edgecolors='white')\n",
    "plt.title('PTRATIO')\n",
    "plt.show()"
   ]
  },
  {
   "cell_type": "code",
   "execution_count": 10,
   "id": "832f9cdc",
   "metadata": {},
   "outputs": [
    {
     "data": {
      "image/png": "[encoded data removed]",
      "text/plain": [
       "<Figure size 432x288 with 1 Axes>"
      ]
     },
     "metadata": {
      "needs_background": "light"
     },
     "output_type": "display_data"
    }
   ],
   "source": [
    "# RM和房价的散点图\n",
    "plt.scatter(boston_df['RM'], boston_df['PRICE'],s=30, edgecolors='white')\n",
    "plt.title('RM')\n",
    "plt.show()"
   ]
  },
  {
   "cell_type": "code",
   "execution_count": 11,
   "id": "b4cc1186",
   "metadata": {},
   "outputs": [
    {
     "data": {
      "image/png": "[encoded data removed]",
      "text/plain": [
       "<Figure size 432x288 with 1 Axes>"
      ]
     },
     "metadata": {
      "needs_background": "light"
     },
     "output_type": "display_data"
    }
   ],
   "source": [
    "#  INDUS和房价的散点图\n",
    "plt.scatter(boston_df['INDUS'], boston_df['PRICE'],s=30, edgecolors='white')\n",
    "plt.title('INDUS')\n",
    "plt.show()"
   ]
  },
  {
   "cell_type": "code",
   "execution_count": 12,
   "id": "894cb49e",
   "metadata": {},
   "outputs": [],
   "source": [
    "# 只提取3个相关性高的特征\n",
    "boston_df = boston_df[['LSTAT', 'PTRATIO', 'RM', 'PRICE']]\n",
    "# boston_df = boston_df[['LSTAT', 'PRICE']]\n",
    "\n",
    "# # 目标值\n",
    "y = np.array(boston_df['PRICE'])\n",
    "boston_df = boston_df.drop(['PRICE'], axis=1)\n",
    "# 特征值\n",
    "X = np.array(boston_df)\n"
   ]
  },
  {
   "cell_type": "code",
   "execution_count": 13,
   "id": "706dc84f",
   "metadata": {},
   "outputs": [
    {
     "name": "stdout",
     "output_type": "stream",
     "text": [
      "(391, 3) (98, 3) (391,) (98,)\n"
     ]
    }
   ],
   "source": [
    "# 分割测试集和训练集\n",
    "from sklearn.model_selection import train_test_split\n",
    "X_train, X_test, y_train, y_test = train_test_split(X,\n",
    "                                                    y,\n",
    "                                                    test_size=0.2,\n",
    "                                                    random_state=0)\n",
    "print(X_train.shape, X_test.shape, y_train.shape, y_test.shape)"
   ]
  },
  {
   "cell_type": "code",
   "execution_count": 14,
   "id": "9d8b51d1",
   "metadata": {},
   "outputs": [],
   "source": [
    "# # # 将y转为2维数组\n",
    "# y_train = y_train.reshape(1,-1)\n",
    "# y_test = y_test.reshape(1,-1)"
   ]
  },
  {
   "cell_type": "code",
   "execution_count": 15,
   "id": "b96ffa38",
   "metadata": {},
   "outputs": [
    {
     "name": "stdout",
     "output_type": "stream",
     "text": [
      "(391, 3) (98, 3) (391,) (98,)\n"
     ]
    }
   ],
   "source": [
    "print(X_train.shape, X_test.shape, y_train.shape, y_test.shape)"
   ]
  },
  {
   "cell_type": "code",
   "execution_count": 16,
   "id": "d5d26600",
   "metadata": {},
   "outputs": [],
   "source": [
    "# %load function.py\n",
    "#!/usr/bin/env python\n",
    "# author = 'elder ring$'\n",
    "# time = 2022/3/30\n",
    "# Project = function\n",
    "import numpy as np\n",
    "import matplotlib.pyplot as plt\n",
    "from sklearn.model_selection import train_test_split\n",
    "\n",
    "\n",
    "class Network(object):\n",
    "    def __init__(self, num_weights):\n",
    "        # 随机初始化权重w\n",
    "        np.random.seed(0)\n",
    "        self.w = np.random.randn(1, num_weights)\n",
    "        self.b = 0\n",
    "\n",
    "    def linear_forward(self, x):\n",
    "        z = np.dot(self.w, x.T) + self.b\n",
    "        return z\n",
    "    \n",
    "    def Normalization(self, X):\n",
    "        maximums, minimums, avgs = X.max(axis=0), X.min(axis=0), \\\n",
    "                                   X.sum(axis=0) / X.shape[0]\n",
    "        # 对数据进行归一化处理\n",
    "        for i in range(X.shape[1]):\n",
    "            # print(maximums[i], minimums[i], avgs[i])\n",
    "            X[:, i] = (X[:, i] - avgs[i]) / (maximums[i] - minimums[i])\n",
    "\n",
    "        return X\n",
    "    \n",
    "    def cost(self, z, y):\n",
    "        m = z.shape[1]\n",
    "        num_samples = y.shape[1]\n",
    "        cost = (np.square(y-z)).sum()/ (2 * m)\n",
    "        return cost\n",
    "\n",
    "    def gradient(self, x, y, z):\n",
    "        m = x.shape[0]\n",
    "#         dw = 1. / m * np.dot(z-y, x)\n",
    "        dw = 1. / m * np.sum((z-y).T * x, axis=0)\n",
    "        db = 1. / m * np.sum(z-y)\n",
    "        return dw, db\n",
    "\n",
    "    def updata(self, dw, db, learning_rate=0.01):\n",
    "        self.w = self.w - learning_rate * dw\n",
    "        self.b = self.b - learning_rate * db\n",
    "\n",
    "    def train(self, x, y, num_iterations=3000, learning_rate=0.01):\n",
    "        m = x.shape[0]\n",
    "        costs = []\n",
    "        y = y.reshape(1,-1)\n",
    "        for i in range(1, num_iterations + 1):\n",
    "            z = self.linear_forward(x)\n",
    "            cost = self.cost(z, y)\n",
    "            dw, db = self.gradient(x, y, z)\n",
    "            m = x.shape[0]\n",
    "            self.updata(dw,db,learning_rate)        \n",
    "            # 每迭代100次输出一次cost\n",
    "            if i % 100 == 0:\n",
    "                print(\"Cost after iteration {}: {}\".format(i, np.squeeze(cost)))\n",
    "            if i % 100 == 0:\n",
    "                costs.append(cost)\n",
    "\n",
    "        # 损失函数图像\n",
    "        plt.plot(np.squeeze(costs))\n",
    "        plt.ylabel('cost')\n",
    "        plt.xlabel('iterations (per tens)')\n",
    "        plt.title(\"Learning rate =\" + str(learning_rate))\n",
    "        plt.show()\n",
    "        return costs"
   ]
  },
  {
   "cell_type": "code",
   "execution_count": 17,
   "id": "a4927185",
   "metadata": {},
   "outputs": [],
   "source": [
    "# #KNN算法\n",
    "\n",
    "# from sklearn.preprocessing import StandardScaler\n",
    "# standardscaler = StandardScaler()\n",
    "# standardscaler.fit(X_train)\n",
    "# x_train_std = standardscaler.transform(X_train)\n",
    "# x_test_std = standardscaler.transform(X_test)\n"
   ]
  },
  {
   "cell_type": "code",
   "execution_count": 18,
   "id": "557ebeb5",
   "metadata": {},
   "outputs": [],
   "source": [
    "# from sklearn.neighbors import KNeighborsRegressor\n",
    "# KNN_reg = KNeighborsRegressor()\n",
    "# KNN_reg.fit(x_train_std,y_train)"
   ]
  },
  {
   "cell_type": "code",
   "execution_count": 19,
   "id": "bd3bbd6f",
   "metadata": {},
   "outputs": [],
   "source": [
    "# y_pred = KNN_reg.predict(x_test_std)\n",
    "# np.sqrt(mean_squared_error(y_test,y_pred))"
   ]
  },
  {
   "cell_type": "code",
   "execution_count": 20,
   "id": "a3362f88",
   "metadata": {},
   "outputs": [],
   "source": [
    "# from sklearn.metrics import r2_score\n",
    "# r2_score(y_test,y_pred)\n",
    "\n",
    "# y_test = y_test.reshape(1,-1)\n",
    "# y_pred = y_pred.reshape(1,-1)"
   ]
  },
  {
   "cell_type": "code",
   "execution_count": 21,
   "id": "6c08766e",
   "metadata": {},
   "outputs": [],
   "source": [
    "# L1 = plt.scatter(range(y_test.shape[1]),y_test, c='g', s=30, edgecolor='white')\n",
    "# L2 = plt.scatter(range(y_pred.shape[1]),y_pred, c='r', s=30, edgecolor='white')\n",
    "# # plt.title('y_test_PRICE')\n",
    "# plt.xlabel('sample')\n",
    "# plt.ylabel('PRICE')\n",
    "# legend = plt.legend([L1,L2], [\"y_test\",\"y_pred\"])\n",
    "# plt.show()"
   ]
  },
  {
   "cell_type": "code",
   "execution_count": 25,
   "id": "73fb871d",
   "metadata": {
    "scrolled": true
   },
   "outputs": [
    {
     "name": "stdout",
     "output_type": "stream",
     "text": [
      "Cost after iteration 100: 15.646741019915725\n",
      "Cost after iteration 200: 10.685566726240198\n",
      "Cost after iteration 300: 9.19075843676535\n",
      "Cost after iteration 400: 8.686780683464047\n",
      "Cost after iteration 500: 8.489618509423355\n",
      "Cost after iteration 600: 8.399833685431751\n",
      "Cost after iteration 700: 8.353662862532564\n",
      "Cost after iteration 800: 8.327851237081175\n",
      "Cost after iteration 900: 8.3125738243896\n",
      "Cost after iteration 1000: 8.303122172893614\n",
      "Cost after iteration 1100: 8.297035613013703\n",
      "Cost after iteration 1200: 8.292958479220594\n",
      "Cost after iteration 1300: 8.290119100250212\n",
      "Cost after iteration 1400: 8.288067625501927\n",
      "Cost after iteration 1500: 8.286535943915704\n",
      "Cost after iteration 1600: 8.285360316456295\n",
      "Cost after iteration 1700: 8.284437849720543\n",
      "Cost after iteration 1800: 8.283701716378841\n",
      "Cost after iteration 1900: 8.283106907432495\n",
      "Cost after iteration 2000: 8.28262195135382\n"
     ]
    },
    {
     "data": {
      "image/png": "[encoded data removed]",
      "text/plain": [
       "<Figure size 432x288 with 1 Axes>"
      ]
     },
     "metadata": {
      "needs_background": "light"
     },
     "output_type": "display_data"
    }
   ],
   "source": [
    "# # 线性回归梯度下降法\n",
    "net = Network(X_train.shape[1])\n",
    "net.Normalization(X_train)\n",
    "net.Normalization(X_test)\n",
    "\n",
    "losses = net.train(X_train, y_train, num_iterations=2000,learning_rate=0.1)"
   ]
  },
  {
   "cell_type": "code",
   "execution_count": 26,
   "id": "f994a40b",
   "metadata": {},
   "outputs": [
    {
     "name": "stdout",
     "output_type": "stream",
     "text": [
      "mse = 23.563014779814562\n",
      "rmse = 4.854174984465904\n",
      "r2 = 0.6013580053994972\n"
     ]
    }
   ],
   "source": [
    "from sklearn.metrics import mean_squared_error #均方误差\n",
    "from sklearn.metrics import mean_absolute_error #平方绝对误差\n",
    "from sklearn.metrics import r2_score#R square\n",
    "\n",
    "y_test_predict = net.linear_forward(X_test)\n",
    "y_test_predict = y_test_predict.reshape(1,98)\n",
    "y_test = y_test.reshape(1,98)\n",
    "\n",
    "mse = mean_squared_error(y_test,y_test_predict)#均方差\n",
    "rmse = np.sqrt(mse)#均方根\n",
    "\n",
    "r2 = r2_score(np.squeeze(y_test), np.squeeze(y_test_predict))#r2\n",
    "print('mse = ' + str(mse))\n",
    "print('rmse = ' + str(rmse))\n",
    "print(\"r2 = \" + str(r2))\n"
   ]
  },
  {
   "cell_type": "code",
   "execution_count": 27,
   "id": "e9420235",
   "metadata": {},
   "outputs": [
    {
     "data": {
      "image/png": "[encoded data removed]",
      "text/plain": [
       "<Figure size 432x288 with 1 Axes>"
      ]
     },
     "metadata": {
      "needs_background": "light"
     },
     "output_type": "display_data"
    }
   ],
   "source": [
    "L1 = plt.scatter(range(X_test.shape[0]),y_test, c='g', s=30, edgecolor='white')\n",
    "L2 = plt.scatter(range(X_test.shape[0]),y_test_predict, c='r', s=30, edgecolor='white')\n",
    "# plt.title('y_test_PRICE')\n",
    "plt.xlabel('sample')\n",
    "plt.ylabel('PRICE')\n",
    "legend = plt.legend([L1,L2], [\"y_test\",\"y_test_predict\"])\n",
    "plt.show()"
   ]
  }
 ],
 "metadata": {
  "kernelspec": {
   "display_name": "Python [conda env:root] *",
   "language": "python",
   "name": "conda-root-py"
  },
  "language_info": {
   "codemirror_mode": {
    "name": "ipython",
    "version": 3
   },
   "file_extension": ".py",
   "mimetype": "text/x-python",
   "name": "python",
   "nbconvert_exporter": "python",
   "pygments_lexer": "ipython3",
   "version": "3.8.8"
  }
 },
 "nbformat": 4,
 "nbformat_minor": 5
}
